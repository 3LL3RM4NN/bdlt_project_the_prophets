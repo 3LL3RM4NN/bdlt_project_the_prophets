{
 "cells": [
  {
   "cell_type": "markdown",
   "metadata": {},
   "source": [
    "### Imports"
   ]
  },
  {
   "cell_type": "code",
   "execution_count": 2,
   "metadata": {},
   "outputs": [],
   "source": [
    "import pandas as pd\n",
    "import numpy as np\n",
    "\n",
    "import matplotlib.pyplot as plt\n",
    "import seaborn as sns"
   ]
  },
  {
   "cell_type": "markdown",
   "metadata": {},
   "source": [
    "### load dataset"
   ]
  },
  {
   "cell_type": "code",
   "execution_count": 3,
   "metadata": {},
   "outputs": [],
   "source": [
    "data = pd.read_csv('data/classified_data.csv', sep=',', header=0)"
   ]
  },
  {
   "cell_type": "code",
   "execution_count": 4,
   "metadata": {},
   "outputs": [
    {
     "data": {
      "text/html": [
       "<div>\n",
       "<style scoped>\n",
       "    .dataframe tbody tr th:only-of-type {\n",
       "        vertical-align: middle;\n",
       "    }\n",
       "\n",
       "    .dataframe tbody tr th {\n",
       "        vertical-align: top;\n",
       "    }\n",
       "\n",
       "    .dataframe thead th {\n",
       "        text-align: right;\n",
       "    }\n",
       "</style>\n",
       "<table border=\"1\" class=\"dataframe\">\n",
       "  <thead>\n",
       "    <tr style=\"text-align: right;\">\n",
       "      <th></th>\n",
       "      <th>created_at</th>\n",
       "      <th>id</th>\n",
       "      <th>lng</th>\n",
       "      <th>lat</th>\n",
       "      <th>topic</th>\n",
       "      <th>sentiment</th>\n",
       "      <th>stance</th>\n",
       "      <th>gender</th>\n",
       "      <th>temperature_avg</th>\n",
       "      <th>aggressiveness</th>\n",
       "      <th>text</th>\n",
       "      <th>tb_polarity</th>\n",
       "      <th>tb_subjectivity</th>\n",
       "      <th>hf_label</th>\n",
       "      <th>hf_score</th>\n",
       "    </tr>\n",
       "  </thead>\n",
       "  <tbody>\n",
       "    <tr>\n",
       "      <th>0</th>\n",
       "      <td>2007-03-27 14:27:38+00:00</td>\n",
       "      <td>13633131</td>\n",
       "      <td>NaN</td>\n",
       "      <td>NaN</td>\n",
       "      <td>Weather Extremes</td>\n",
       "      <td>0.752387</td>\n",
       "      <td>believer</td>\n",
       "      <td>male</td>\n",
       "      <td>NaN</td>\n",
       "      <td>not aggressive</td>\n",
       "      <td>USER_REF with global warming you will be able ...</td>\n",
       "      <td>0.242262</td>\n",
       "      <td>0.456548</td>\n",
       "      <td>positive</td>\n",
       "      <td>0.868611</td>\n",
       "    </tr>\n",
       "    <tr>\n",
       "      <th>1</th>\n",
       "      <td>2007-04-11 09:27:27+00:00</td>\n",
       "      <td>24477281</td>\n",
       "      <td>-2.716577</td>\n",
       "      <td>51.14804</td>\n",
       "      <td>Seriousness of Gas Emissions</td>\n",
       "      <td>0.135546</td>\n",
       "      <td>believer</td>\n",
       "      <td>male</td>\n",
       "      <td>3.155858</td>\n",
       "      <td>not aggressive</td>\n",
       "      <td>USER_REF - you need a billion dollar project t...</td>\n",
       "      <td>0.000000</td>\n",
       "      <td>0.000000</td>\n",
       "      <td>neutral</td>\n",
       "      <td>0.564668</td>\n",
       "    </tr>\n",
       "    <tr>\n",
       "      <th>2</th>\n",
       "      <td>2007-04-26 17:49:51+00:00</td>\n",
       "      <td>40935582</td>\n",
       "      <td>-122.332070</td>\n",
       "      <td>47.60621</td>\n",
       "      <td>Seriousness of Gas Emissions</td>\n",
       "      <td>0.072492</td>\n",
       "      <td>believer</td>\n",
       "      <td>male</td>\n",
       "      <td>-0.245944</td>\n",
       "      <td>aggressive</td>\n",
       "      <td>listening to my eas professor pretend that he ...</td>\n",
       "      <td>0.000000</td>\n",
       "      <td>0.000000</td>\n",
       "      <td>negative</td>\n",
       "      <td>0.589993</td>\n",
       "    </tr>\n",
       "    <tr>\n",
       "      <th>3</th>\n",
       "      <td>2007-05-07 13:10:41+00:00</td>\n",
       "      <td>53214992</td>\n",
       "      <td>NaN</td>\n",
       "      <td>NaN</td>\n",
       "      <td>Global stance</td>\n",
       "      <td>-0.485976</td>\n",
       "      <td>believer</td>\n",
       "      <td>male</td>\n",
       "      <td>NaN</td>\n",
       "      <td>not aggressive</td>\n",
       "      <td>an environment agency predicts climate change ...</td>\n",
       "      <td>0.000000</td>\n",
       "      <td>0.000000</td>\n",
       "      <td>neutral</td>\n",
       "      <td>0.679772</td>\n",
       "    </tr>\n",
       "    <tr>\n",
       "      <th>4</th>\n",
       "      <td>2007-05-22 16:38:15+00:00</td>\n",
       "      <td>74191762</td>\n",
       "      <td>NaN</td>\n",
       "      <td>NaN</td>\n",
       "      <td>Global stance</td>\n",
       "      <td>-0.180456</td>\n",
       "      <td>neutral</td>\n",
       "      <td>male</td>\n",
       "      <td>NaN</td>\n",
       "      <td>aggressive</td>\n",
       "      <td>since interest rate is positive, future price ...</td>\n",
       "      <td>0.056818</td>\n",
       "      <td>0.198864</td>\n",
       "      <td>neutral</td>\n",
       "      <td>0.874980</td>\n",
       "    </tr>\n",
       "  </tbody>\n",
       "</table>\n",
       "</div>"
      ],
      "text/plain": [
       "                  created_at        id         lng       lat  \\\n",
       "0  2007-03-27 14:27:38+00:00  13633131         NaN       NaN   \n",
       "1  2007-04-11 09:27:27+00:00  24477281   -2.716577  51.14804   \n",
       "2  2007-04-26 17:49:51+00:00  40935582 -122.332070  47.60621   \n",
       "3  2007-05-07 13:10:41+00:00  53214992         NaN       NaN   \n",
       "4  2007-05-22 16:38:15+00:00  74191762         NaN       NaN   \n",
       "\n",
       "                          topic  sentiment    stance gender  temperature_avg  \\\n",
       "0              Weather Extremes   0.752387  believer   male              NaN   \n",
       "1  Seriousness of Gas Emissions   0.135546  believer   male         3.155858   \n",
       "2  Seriousness of Gas Emissions   0.072492  believer   male        -0.245944   \n",
       "3                 Global stance  -0.485976  believer   male              NaN   \n",
       "4                 Global stance  -0.180456   neutral   male              NaN   \n",
       "\n",
       "   aggressiveness                                               text  \\\n",
       "0  not aggressive  USER_REF with global warming you will be able ...   \n",
       "1  not aggressive  USER_REF - you need a billion dollar project t...   \n",
       "2      aggressive  listening to my eas professor pretend that he ...   \n",
       "3  not aggressive  an environment agency predicts climate change ...   \n",
       "4      aggressive  since interest rate is positive, future price ...   \n",
       "\n",
       "   tb_polarity  tb_subjectivity  hf_label  hf_score  \n",
       "0     0.242262         0.456548  positive  0.868611  \n",
       "1     0.000000         0.000000   neutral  0.564668  \n",
       "2     0.000000         0.000000  negative  0.589993  \n",
       "3     0.000000         0.000000   neutral  0.679772  \n",
       "4     0.056818         0.198864   neutral  0.874980  "
      ]
     },
     "execution_count": 4,
     "metadata": {},
     "output_type": "execute_result"
    }
   ],
   "source": [
    "data.head()"
   ]
  },
  {
   "cell_type": "code",
   "execution_count": 5,
   "metadata": {},
   "outputs": [],
   "source": [
    "data['topic_code'] = pd.factorize(data['topic'])[0]\n",
    "data['gender_code'] = pd.factorize(data['gender'])[0]\n",
    "data['stance_code'] = pd.factorize(data['stance'])[0]\n",
    "data['aggressiveness_code'] = pd.factorize(data['aggressiveness'])[0]\n",
    "data['label_code'] = pd.factorize(data['hf_label'])[0]"
   ]
  },
  {
   "cell_type": "code",
   "execution_count": 6,
   "metadata": {},
   "outputs": [
    {
     "data": {
      "text/html": [
       "<div>\n",
       "<style scoped>\n",
       "    .dataframe tbody tr th:only-of-type {\n",
       "        vertical-align: middle;\n",
       "    }\n",
       "\n",
       "    .dataframe tbody tr th {\n",
       "        vertical-align: top;\n",
       "    }\n",
       "\n",
       "    .dataframe thead th {\n",
       "        text-align: right;\n",
       "    }\n",
       "</style>\n",
       "<table border=\"1\" class=\"dataframe\">\n",
       "  <thead>\n",
       "    <tr style=\"text-align: right;\">\n",
       "      <th></th>\n",
       "      <th>created_at</th>\n",
       "      <th>id</th>\n",
       "      <th>lng</th>\n",
       "      <th>lat</th>\n",
       "      <th>topic</th>\n",
       "      <th>sentiment</th>\n",
       "      <th>stance</th>\n",
       "      <th>gender</th>\n",
       "      <th>temperature_avg</th>\n",
       "      <th>aggressiveness</th>\n",
       "      <th>text</th>\n",
       "      <th>tb_polarity</th>\n",
       "      <th>tb_subjectivity</th>\n",
       "      <th>hf_label</th>\n",
       "      <th>hf_score</th>\n",
       "      <th>topic_code</th>\n",
       "      <th>gender_code</th>\n",
       "      <th>stance_code</th>\n",
       "      <th>aggressiveness_code</th>\n",
       "      <th>label_code</th>\n",
       "    </tr>\n",
       "  </thead>\n",
       "  <tbody>\n",
       "    <tr>\n",
       "      <th>0</th>\n",
       "      <td>2007-03-27 14:27:38+00:00</td>\n",
       "      <td>13633131</td>\n",
       "      <td>NaN</td>\n",
       "      <td>NaN</td>\n",
       "      <td>Weather Extremes</td>\n",
       "      <td>0.752387</td>\n",
       "      <td>believer</td>\n",
       "      <td>male</td>\n",
       "      <td>NaN</td>\n",
       "      <td>not aggressive</td>\n",
       "      <td>USER_REF with global warming you will be able ...</td>\n",
       "      <td>0.242262</td>\n",
       "      <td>0.456548</td>\n",
       "      <td>positive</td>\n",
       "      <td>0.868611</td>\n",
       "      <td>0</td>\n",
       "      <td>0</td>\n",
       "      <td>0</td>\n",
       "      <td>0</td>\n",
       "      <td>0</td>\n",
       "    </tr>\n",
       "    <tr>\n",
       "      <th>1</th>\n",
       "      <td>2007-04-11 09:27:27+00:00</td>\n",
       "      <td>24477281</td>\n",
       "      <td>-2.716577</td>\n",
       "      <td>51.14804</td>\n",
       "      <td>Seriousness of Gas Emissions</td>\n",
       "      <td>0.135546</td>\n",
       "      <td>believer</td>\n",
       "      <td>male</td>\n",
       "      <td>3.155858</td>\n",
       "      <td>not aggressive</td>\n",
       "      <td>USER_REF - you need a billion dollar project t...</td>\n",
       "      <td>0.000000</td>\n",
       "      <td>0.000000</td>\n",
       "      <td>neutral</td>\n",
       "      <td>0.564668</td>\n",
       "      <td>1</td>\n",
       "      <td>0</td>\n",
       "      <td>0</td>\n",
       "      <td>0</td>\n",
       "      <td>1</td>\n",
       "    </tr>\n",
       "    <tr>\n",
       "      <th>2</th>\n",
       "      <td>2007-04-26 17:49:51+00:00</td>\n",
       "      <td>40935582</td>\n",
       "      <td>-122.332070</td>\n",
       "      <td>47.60621</td>\n",
       "      <td>Seriousness of Gas Emissions</td>\n",
       "      <td>0.072492</td>\n",
       "      <td>believer</td>\n",
       "      <td>male</td>\n",
       "      <td>-0.245944</td>\n",
       "      <td>aggressive</td>\n",
       "      <td>listening to my eas professor pretend that he ...</td>\n",
       "      <td>0.000000</td>\n",
       "      <td>0.000000</td>\n",
       "      <td>negative</td>\n",
       "      <td>0.589993</td>\n",
       "      <td>1</td>\n",
       "      <td>0</td>\n",
       "      <td>0</td>\n",
       "      <td>1</td>\n",
       "      <td>2</td>\n",
       "    </tr>\n",
       "    <tr>\n",
       "      <th>3</th>\n",
       "      <td>2007-05-07 13:10:41+00:00</td>\n",
       "      <td>53214992</td>\n",
       "      <td>NaN</td>\n",
       "      <td>NaN</td>\n",
       "      <td>Global stance</td>\n",
       "      <td>-0.485976</td>\n",
       "      <td>believer</td>\n",
       "      <td>male</td>\n",
       "      <td>NaN</td>\n",
       "      <td>not aggressive</td>\n",
       "      <td>an environment agency predicts climate change ...</td>\n",
       "      <td>0.000000</td>\n",
       "      <td>0.000000</td>\n",
       "      <td>neutral</td>\n",
       "      <td>0.679772</td>\n",
       "      <td>2</td>\n",
       "      <td>0</td>\n",
       "      <td>0</td>\n",
       "      <td>0</td>\n",
       "      <td>1</td>\n",
       "    </tr>\n",
       "    <tr>\n",
       "      <th>4</th>\n",
       "      <td>2007-05-22 16:38:15+00:00</td>\n",
       "      <td>74191762</td>\n",
       "      <td>NaN</td>\n",
       "      <td>NaN</td>\n",
       "      <td>Global stance</td>\n",
       "      <td>-0.180456</td>\n",
       "      <td>neutral</td>\n",
       "      <td>male</td>\n",
       "      <td>NaN</td>\n",
       "      <td>aggressive</td>\n",
       "      <td>since interest rate is positive, future price ...</td>\n",
       "      <td>0.056818</td>\n",
       "      <td>0.198864</td>\n",
       "      <td>neutral</td>\n",
       "      <td>0.874980</td>\n",
       "      <td>2</td>\n",
       "      <td>0</td>\n",
       "      <td>1</td>\n",
       "      <td>1</td>\n",
       "      <td>1</td>\n",
       "    </tr>\n",
       "  </tbody>\n",
       "</table>\n",
       "</div>"
      ],
      "text/plain": [
       "                  created_at        id         lng       lat  \\\n",
       "0  2007-03-27 14:27:38+00:00  13633131         NaN       NaN   \n",
       "1  2007-04-11 09:27:27+00:00  24477281   -2.716577  51.14804   \n",
       "2  2007-04-26 17:49:51+00:00  40935582 -122.332070  47.60621   \n",
       "3  2007-05-07 13:10:41+00:00  53214992         NaN       NaN   \n",
       "4  2007-05-22 16:38:15+00:00  74191762         NaN       NaN   \n",
       "\n",
       "                          topic  sentiment    stance gender  temperature_avg  \\\n",
       "0              Weather Extremes   0.752387  believer   male              NaN   \n",
       "1  Seriousness of Gas Emissions   0.135546  believer   male         3.155858   \n",
       "2  Seriousness of Gas Emissions   0.072492  believer   male        -0.245944   \n",
       "3                 Global stance  -0.485976  believer   male              NaN   \n",
       "4                 Global stance  -0.180456   neutral   male              NaN   \n",
       "\n",
       "   aggressiveness                                               text  \\\n",
       "0  not aggressive  USER_REF with global warming you will be able ...   \n",
       "1  not aggressive  USER_REF - you need a billion dollar project t...   \n",
       "2      aggressive  listening to my eas professor pretend that he ...   \n",
       "3  not aggressive  an environment agency predicts climate change ...   \n",
       "4      aggressive  since interest rate is positive, future price ...   \n",
       "\n",
       "   tb_polarity  tb_subjectivity  hf_label  hf_score  topic_code  gender_code  \\\n",
       "0     0.242262         0.456548  positive  0.868611           0            0   \n",
       "1     0.000000         0.000000   neutral  0.564668           1            0   \n",
       "2     0.000000         0.000000  negative  0.589993           1            0   \n",
       "3     0.000000         0.000000   neutral  0.679772           2            0   \n",
       "4     0.056818         0.198864   neutral  0.874980           2            0   \n",
       "\n",
       "   stance_code  aggressiveness_code  label_code  \n",
       "0            0                    0           0  \n",
       "1            0                    0           1  \n",
       "2            0                    1           2  \n",
       "3            0                    0           1  \n",
       "4            1                    1           1  "
      ]
     },
     "execution_count": 6,
     "metadata": {},
     "output_type": "execute_result"
    }
   ],
   "source": [
    "data.head()"
   ]
  },
  {
   "cell_type": "code",
   "execution_count": 7,
   "metadata": {},
   "outputs": [
    {
     "name": "stdout",
     "output_type": "stream",
     "text": [
      "<class 'pandas.core.frame.DataFrame'>\n",
      "RangeIndex: 68283 entries, 0 to 68282\n",
      "Data columns (total 20 columns):\n",
      " #   Column               Non-Null Count  Dtype  \n",
      "---  ------               --------------  -----  \n",
      " 0   created_at           68283 non-null  object \n",
      " 1   id                   68283 non-null  int64  \n",
      " 2   lng                  24797 non-null  float64\n",
      " 3   lat                  24797 non-null  float64\n",
      " 4   topic                68283 non-null  object \n",
      " 5   sentiment            68283 non-null  float64\n",
      " 6   stance               68283 non-null  object \n",
      " 7   gender               68283 non-null  object \n",
      " 8   temperature_avg      24797 non-null  float64\n",
      " 9   aggressiveness       68283 non-null  object \n",
      " 10  text                 68283 non-null  object \n",
      " 11  tb_polarity          68283 non-null  float64\n",
      " 12  tb_subjectivity      68283 non-null  float64\n",
      " 13  hf_label             68283 non-null  object \n",
      " 14  hf_score             68283 non-null  float64\n",
      " 15  topic_code           68283 non-null  int64  \n",
      " 16  gender_code          68283 non-null  int64  \n",
      " 17  stance_code          68283 non-null  int64  \n",
      " 18  aggressiveness_code  68283 non-null  int64  \n",
      " 19  label_code           68283 non-null  int64  \n",
      "dtypes: float64(7), int64(6), object(7)\n",
      "memory usage: 10.4+ MB\n"
     ]
    }
   ],
   "source": [
    "data.info()"
   ]
  },
  {
   "cell_type": "code",
   "execution_count": 8,
   "metadata": {},
   "outputs": [
    {
     "data": {
      "text/html": [
       "<div>\n",
       "<style scoped>\n",
       "    .dataframe tbody tr th:only-of-type {\n",
       "        vertical-align: middle;\n",
       "    }\n",
       "\n",
       "    .dataframe tbody tr th {\n",
       "        vertical-align: top;\n",
       "    }\n",
       "\n",
       "    .dataframe thead th {\n",
       "        text-align: right;\n",
       "    }\n",
       "</style>\n",
       "<table border=\"1\" class=\"dataframe\">\n",
       "  <thead>\n",
       "    <tr style=\"text-align: right;\">\n",
       "      <th></th>\n",
       "      <th>id</th>\n",
       "      <th>lng</th>\n",
       "      <th>lat</th>\n",
       "      <th>sentiment</th>\n",
       "      <th>temperature_avg</th>\n",
       "      <th>tb_polarity</th>\n",
       "      <th>tb_subjectivity</th>\n",
       "      <th>hf_score</th>\n",
       "      <th>topic_code</th>\n",
       "      <th>gender_code</th>\n",
       "      <th>stance_code</th>\n",
       "      <th>aggressiveness_code</th>\n",
       "      <th>label_code</th>\n",
       "    </tr>\n",
       "  </thead>\n",
       "  <tbody>\n",
       "    <tr>\n",
       "      <th>id</th>\n",
       "      <td>1.000000</td>\n",
       "      <td>0.053515</td>\n",
       "      <td>0.002062</td>\n",
       "      <td>0.072136</td>\n",
       "      <td>0.137895</td>\n",
       "      <td>0.040647</td>\n",
       "      <td>0.080491</td>\n",
       "      <td>0.029377</td>\n",
       "      <td>0.129992</td>\n",
       "      <td>0.019574</td>\n",
       "      <td>-0.207586</td>\n",
       "      <td>-0.057390</td>\n",
       "      <td>-0.016528</td>\n",
       "    </tr>\n",
       "    <tr>\n",
       "      <th>lng</th>\n",
       "      <td>0.053515</td>\n",
       "      <td>1.000000</td>\n",
       "      <td>-0.607683</td>\n",
       "      <td>0.055694</td>\n",
       "      <td>-0.006862</td>\n",
       "      <td>0.017822</td>\n",
       "      <td>-0.008507</td>\n",
       "      <td>0.000322</td>\n",
       "      <td>0.047151</td>\n",
       "      <td>0.037178</td>\n",
       "      <td>-0.069261</td>\n",
       "      <td>-0.068381</td>\n",
       "      <td>-0.036820</td>\n",
       "    </tr>\n",
       "    <tr>\n",
       "      <th>lat</th>\n",
       "      <td>0.002062</td>\n",
       "      <td>-0.607683</td>\n",
       "      <td>1.000000</td>\n",
       "      <td>0.001668</td>\n",
       "      <td>0.132806</td>\n",
       "      <td>-0.005693</td>\n",
       "      <td>0.003729</td>\n",
       "      <td>0.006144</td>\n",
       "      <td>0.011365</td>\n",
       "      <td>-0.024020</td>\n",
       "      <td>0.003294</td>\n",
       "      <td>0.020484</td>\n",
       "      <td>-0.021467</td>\n",
       "    </tr>\n",
       "    <tr>\n",
       "      <th>sentiment</th>\n",
       "      <td>0.072136</td>\n",
       "      <td>0.055694</td>\n",
       "      <td>0.001668</td>\n",
       "      <td>1.000000</td>\n",
       "      <td>0.027654</td>\n",
       "      <td>0.378311</td>\n",
       "      <td>-0.002939</td>\n",
       "      <td>0.006041</td>\n",
       "      <td>0.094196</td>\n",
       "      <td>0.016097</td>\n",
       "      <td>-0.142988</td>\n",
       "      <td>-0.137559</td>\n",
       "      <td>-0.524086</td>\n",
       "    </tr>\n",
       "    <tr>\n",
       "      <th>temperature_avg</th>\n",
       "      <td>0.137895</td>\n",
       "      <td>-0.006862</td>\n",
       "      <td>0.132806</td>\n",
       "      <td>0.027654</td>\n",
       "      <td>1.000000</td>\n",
       "      <td>0.022798</td>\n",
       "      <td>0.003472</td>\n",
       "      <td>0.011176</td>\n",
       "      <td>0.032752</td>\n",
       "      <td>0.008372</td>\n",
       "      <td>-0.056031</td>\n",
       "      <td>-0.012517</td>\n",
       "      <td>-0.020068</td>\n",
       "    </tr>\n",
       "    <tr>\n",
       "      <th>tb_polarity</th>\n",
       "      <td>0.040647</td>\n",
       "      <td>0.017822</td>\n",
       "      <td>-0.005693</td>\n",
       "      <td>0.378311</td>\n",
       "      <td>0.022798</td>\n",
       "      <td>1.000000</td>\n",
       "      <td>0.109340</td>\n",
       "      <td>-0.058511</td>\n",
       "      <td>0.021792</td>\n",
       "      <td>0.010677</td>\n",
       "      <td>-0.030818</td>\n",
       "      <td>-0.033342</td>\n",
       "      <td>-0.274968</td>\n",
       "    </tr>\n",
       "    <tr>\n",
       "      <th>tb_subjectivity</th>\n",
       "      <td>0.080491</td>\n",
       "      <td>-0.008507</td>\n",
       "      <td>0.003729</td>\n",
       "      <td>-0.002939</td>\n",
       "      <td>0.003472</td>\n",
       "      <td>0.109340</td>\n",
       "      <td>1.000000</td>\n",
       "      <td>0.004658</td>\n",
       "      <td>-0.033802</td>\n",
       "      <td>0.011642</td>\n",
       "      <td>-0.046709</td>\n",
       "      <td>-0.024806</td>\n",
       "      <td>0.010152</td>\n",
       "    </tr>\n",
       "    <tr>\n",
       "      <th>hf_score</th>\n",
       "      <td>0.029377</td>\n",
       "      <td>0.000322</td>\n",
       "      <td>0.006144</td>\n",
       "      <td>0.006041</td>\n",
       "      <td>0.011176</td>\n",
       "      <td>-0.058511</td>\n",
       "      <td>0.004658</td>\n",
       "      <td>1.000000</td>\n",
       "      <td>0.001419</td>\n",
       "      <td>0.008846</td>\n",
       "      <td>0.001735</td>\n",
       "      <td>-0.002136</td>\n",
       "      <td>-0.012719</td>\n",
       "    </tr>\n",
       "    <tr>\n",
       "      <th>topic_code</th>\n",
       "      <td>0.129992</td>\n",
       "      <td>0.047151</td>\n",
       "      <td>0.011365</td>\n",
       "      <td>0.094196</td>\n",
       "      <td>0.032752</td>\n",
       "      <td>0.021792</td>\n",
       "      <td>-0.033802</td>\n",
       "      <td>0.001419</td>\n",
       "      <td>1.000000</td>\n",
       "      <td>-0.002034</td>\n",
       "      <td>-0.150462</td>\n",
       "      <td>0.023696</td>\n",
       "      <td>-0.085156</td>\n",
       "    </tr>\n",
       "    <tr>\n",
       "      <th>gender_code</th>\n",
       "      <td>0.019574</td>\n",
       "      <td>0.037178</td>\n",
       "      <td>-0.024020</td>\n",
       "      <td>0.016097</td>\n",
       "      <td>0.008372</td>\n",
       "      <td>0.010677</td>\n",
       "      <td>0.011642</td>\n",
       "      <td>0.008846</td>\n",
       "      <td>-0.002034</td>\n",
       "      <td>1.000000</td>\n",
       "      <td>-0.036285</td>\n",
       "      <td>-0.016068</td>\n",
       "      <td>-0.003248</td>\n",
       "    </tr>\n",
       "    <tr>\n",
       "      <th>stance_code</th>\n",
       "      <td>-0.207586</td>\n",
       "      <td>-0.069261</td>\n",
       "      <td>0.003294</td>\n",
       "      <td>-0.142988</td>\n",
       "      <td>-0.056031</td>\n",
       "      <td>-0.030818</td>\n",
       "      <td>-0.046709</td>\n",
       "      <td>0.001735</td>\n",
       "      <td>-0.150462</td>\n",
       "      <td>-0.036285</td>\n",
       "      <td>1.000000</td>\n",
       "      <td>0.095146</td>\n",
       "      <td>0.089796</td>\n",
       "    </tr>\n",
       "    <tr>\n",
       "      <th>aggressiveness_code</th>\n",
       "      <td>-0.057390</td>\n",
       "      <td>-0.068381</td>\n",
       "      <td>0.020484</td>\n",
       "      <td>-0.137559</td>\n",
       "      <td>-0.012517</td>\n",
       "      <td>-0.033342</td>\n",
       "      <td>-0.024806</td>\n",
       "      <td>-0.002136</td>\n",
       "      <td>0.023696</td>\n",
       "      <td>-0.016068</td>\n",
       "      <td>0.095146</td>\n",
       "      <td>1.000000</td>\n",
       "      <td>0.092537</td>\n",
       "    </tr>\n",
       "    <tr>\n",
       "      <th>label_code</th>\n",
       "      <td>-0.016528</td>\n",
       "      <td>-0.036820</td>\n",
       "      <td>-0.021467</td>\n",
       "      <td>-0.524086</td>\n",
       "      <td>-0.020068</td>\n",
       "      <td>-0.274968</td>\n",
       "      <td>0.010152</td>\n",
       "      <td>-0.012719</td>\n",
       "      <td>-0.085156</td>\n",
       "      <td>-0.003248</td>\n",
       "      <td>0.089796</td>\n",
       "      <td>0.092537</td>\n",
       "      <td>1.000000</td>\n",
       "    </tr>\n",
       "  </tbody>\n",
       "</table>\n",
       "</div>"
      ],
      "text/plain": [
       "                           id       lng       lat  sentiment  temperature_avg  \\\n",
       "id                   1.000000  0.053515  0.002062   0.072136         0.137895   \n",
       "lng                  0.053515  1.000000 -0.607683   0.055694        -0.006862   \n",
       "lat                  0.002062 -0.607683  1.000000   0.001668         0.132806   \n",
       "sentiment            0.072136  0.055694  0.001668   1.000000         0.027654   \n",
       "temperature_avg      0.137895 -0.006862  0.132806   0.027654         1.000000   \n",
       "tb_polarity          0.040647  0.017822 -0.005693   0.378311         0.022798   \n",
       "tb_subjectivity      0.080491 -0.008507  0.003729  -0.002939         0.003472   \n",
       "hf_score             0.029377  0.000322  0.006144   0.006041         0.011176   \n",
       "topic_code           0.129992  0.047151  0.011365   0.094196         0.032752   \n",
       "gender_code          0.019574  0.037178 -0.024020   0.016097         0.008372   \n",
       "stance_code         -0.207586 -0.069261  0.003294  -0.142988        -0.056031   \n",
       "aggressiveness_code -0.057390 -0.068381  0.020484  -0.137559        -0.012517   \n",
       "label_code          -0.016528 -0.036820 -0.021467  -0.524086        -0.020068   \n",
       "\n",
       "                     tb_polarity  tb_subjectivity  hf_score  topic_code  \\\n",
       "id                      0.040647         0.080491  0.029377    0.129992   \n",
       "lng                     0.017822        -0.008507  0.000322    0.047151   \n",
       "lat                    -0.005693         0.003729  0.006144    0.011365   \n",
       "sentiment               0.378311        -0.002939  0.006041    0.094196   \n",
       "temperature_avg         0.022798         0.003472  0.011176    0.032752   \n",
       "tb_polarity             1.000000         0.109340 -0.058511    0.021792   \n",
       "tb_subjectivity         0.109340         1.000000  0.004658   -0.033802   \n",
       "hf_score               -0.058511         0.004658  1.000000    0.001419   \n",
       "topic_code              0.021792        -0.033802  0.001419    1.000000   \n",
       "gender_code             0.010677         0.011642  0.008846   -0.002034   \n",
       "stance_code            -0.030818        -0.046709  0.001735   -0.150462   \n",
       "aggressiveness_code    -0.033342        -0.024806 -0.002136    0.023696   \n",
       "label_code             -0.274968         0.010152 -0.012719   -0.085156   \n",
       "\n",
       "                     gender_code  stance_code  aggressiveness_code  label_code  \n",
       "id                      0.019574    -0.207586            -0.057390   -0.016528  \n",
       "lng                     0.037178    -0.069261            -0.068381   -0.036820  \n",
       "lat                    -0.024020     0.003294             0.020484   -0.021467  \n",
       "sentiment               0.016097    -0.142988            -0.137559   -0.524086  \n",
       "temperature_avg         0.008372    -0.056031            -0.012517   -0.020068  \n",
       "tb_polarity             0.010677    -0.030818            -0.033342   -0.274968  \n",
       "tb_subjectivity         0.011642    -0.046709            -0.024806    0.010152  \n",
       "hf_score                0.008846     0.001735            -0.002136   -0.012719  \n",
       "topic_code             -0.002034    -0.150462             0.023696   -0.085156  \n",
       "gender_code             1.000000    -0.036285            -0.016068   -0.003248  \n",
       "stance_code            -0.036285     1.000000             0.095146    0.089796  \n",
       "aggressiveness_code    -0.016068     0.095146             1.000000    0.092537  \n",
       "label_code             -0.003248     0.089796             0.092537    1.000000  "
      ]
     },
     "execution_count": 8,
     "metadata": {},
     "output_type": "execute_result"
    }
   ],
   "source": [
    "data.corr()"
   ]
  },
  {
   "cell_type": "code",
   "execution_count": 9,
   "metadata": {},
   "outputs": [
    {
     "data": {
      "text/html": [
       "<div>\n",
       "<style scoped>\n",
       "    .dataframe tbody tr th:only-of-type {\n",
       "        vertical-align: middle;\n",
       "    }\n",
       "\n",
       "    .dataframe tbody tr th {\n",
       "        vertical-align: top;\n",
       "    }\n",
       "\n",
       "    .dataframe thead th {\n",
       "        text-align: right;\n",
       "    }\n",
       "</style>\n",
       "<table border=\"1\" class=\"dataframe\">\n",
       "  <thead>\n",
       "    <tr style=\"text-align: right;\">\n",
       "      <th></th>\n",
       "      <th>id</th>\n",
       "      <th>lng</th>\n",
       "      <th>lat</th>\n",
       "      <th>sentiment</th>\n",
       "      <th>temperature_avg</th>\n",
       "      <th>tb_polarity</th>\n",
       "      <th>tb_subjectivity</th>\n",
       "      <th>hf_score</th>\n",
       "      <th>topic_code</th>\n",
       "      <th>gender_code</th>\n",
       "      <th>stance_code</th>\n",
       "      <th>aggressiveness_code</th>\n",
       "      <th>label_code</th>\n",
       "    </tr>\n",
       "  </thead>\n",
       "  <tbody>\n",
       "    <tr>\n",
       "      <th>count</th>\n",
       "      <td>6.828300e+04</td>\n",
       "      <td>24797.000000</td>\n",
       "      <td>24797.000000</td>\n",
       "      <td>68283.000000</td>\n",
       "      <td>24797.000000</td>\n",
       "      <td>68283.000000</td>\n",
       "      <td>68283.000000</td>\n",
       "      <td>68283.000000</td>\n",
       "      <td>68283.000000</td>\n",
       "      <td>68283.000000</td>\n",
       "      <td>68283.000000</td>\n",
       "      <td>68283.000000</td>\n",
       "      <td>68283.000000</td>\n",
       "    </tr>\n",
       "    <tr>\n",
       "      <th>mean</th>\n",
       "      <td>8.063511e+17</td>\n",
       "      <td>-43.507358</td>\n",
       "      <td>34.138373</td>\n",
       "      <td>-0.026242</td>\n",
       "      <td>1.204358</td>\n",
       "      <td>0.045078</td>\n",
       "      <td>0.297883</td>\n",
       "      <td>0.729627</td>\n",
       "      <td>3.007205</td>\n",
       "      <td>0.337170</td>\n",
       "      <td>0.284903</td>\n",
       "      <td>0.262642</td>\n",
       "      <td>1.288857</td>\n",
       "    </tr>\n",
       "    <tr>\n",
       "      <th>std</th>\n",
       "      <td>3.268015e+17</td>\n",
       "      <td>76.813557</td>\n",
       "      <td>23.332296</td>\n",
       "      <td>0.426249</td>\n",
       "      <td>3.771311</td>\n",
       "      <td>0.226309</td>\n",
       "      <td>0.276791</td>\n",
       "      <td>0.137312</td>\n",
       "      <td>2.499572</td>\n",
       "      <td>0.529805</td>\n",
       "      <td>0.581506</td>\n",
       "      <td>0.440073</td>\n",
       "      <td>0.649723</td>\n",
       "    </tr>\n",
       "    <tr>\n",
       "      <th>min</th>\n",
       "      <td>1.363313e+07</td>\n",
       "      <td>-161.755833</td>\n",
       "      <td>-76.050000</td>\n",
       "      <td>-0.978728</td>\n",
       "      <td>-18.063744</td>\n",
       "      <td>-1.000000</td>\n",
       "      <td>0.000000</td>\n",
       "      <td>0.338455</td>\n",
       "      <td>0.000000</td>\n",
       "      <td>0.000000</td>\n",
       "      <td>0.000000</td>\n",
       "      <td>0.000000</td>\n",
       "      <td>0.000000</td>\n",
       "    </tr>\n",
       "    <tr>\n",
       "      <th>25%</th>\n",
       "      <td>6.757466e+17</td>\n",
       "      <td>-94.250550</td>\n",
       "      <td>33.749000</td>\n",
       "      <td>-0.404520</td>\n",
       "      <td>-1.184536</td>\n",
       "      <td>0.000000</td>\n",
       "      <td>0.000000</td>\n",
       "      <td>0.613759</td>\n",
       "      <td>1.000000</td>\n",
       "      <td>0.000000</td>\n",
       "      <td>0.000000</td>\n",
       "      <td>0.000000</td>\n",
       "      <td>1.000000</td>\n",
       "    </tr>\n",
       "    <tr>\n",
       "      <th>50%</th>\n",
       "      <td>9.439078e+17</td>\n",
       "      <td>-76.610759</td>\n",
       "      <td>40.349274</td>\n",
       "      <td>-0.037812</td>\n",
       "      <td>1.177470</td>\n",
       "      <td>0.000000</td>\n",
       "      <td>0.262500</td>\n",
       "      <td>0.738494</td>\n",
       "      <td>2.000000</td>\n",
       "      <td>0.000000</td>\n",
       "      <td>0.000000</td>\n",
       "      <td>0.000000</td>\n",
       "      <td>1.000000</td>\n",
       "    </tr>\n",
       "    <tr>\n",
       "      <th>75%</th>\n",
       "      <td>1.037260e+18</td>\n",
       "      <td>-0.127647</td>\n",
       "      <td>47.166670</td>\n",
       "      <td>0.367817</td>\n",
       "      <td>3.858516</td>\n",
       "      <td>0.136364</td>\n",
       "      <td>0.500000</td>\n",
       "      <td>0.848753</td>\n",
       "      <td>4.000000</td>\n",
       "      <td>1.000000</td>\n",
       "      <td>0.000000</td>\n",
       "      <td>1.000000</td>\n",
       "      <td>2.000000</td>\n",
       "    </tr>\n",
       "    <tr>\n",
       "      <th>max</th>\n",
       "      <td>1.178898e+18</td>\n",
       "      <td>178.442166</td>\n",
       "      <td>79.994720</td>\n",
       "      <td>0.976721</td>\n",
       "      <td>17.907597</td>\n",
       "      <td>1.000000</td>\n",
       "      <td>1.000000</td>\n",
       "      <td>0.991963</td>\n",
       "      <td>9.000000</td>\n",
       "      <td>2.000000</td>\n",
       "      <td>2.000000</td>\n",
       "      <td>1.000000</td>\n",
       "      <td>2.000000</td>\n",
       "    </tr>\n",
       "  </tbody>\n",
       "</table>\n",
       "</div>"
      ],
      "text/plain": [
       "                 id           lng           lat     sentiment  \\\n",
       "count  6.828300e+04  24797.000000  24797.000000  68283.000000   \n",
       "mean   8.063511e+17    -43.507358     34.138373     -0.026242   \n",
       "std    3.268015e+17     76.813557     23.332296      0.426249   \n",
       "min    1.363313e+07   -161.755833    -76.050000     -0.978728   \n",
       "25%    6.757466e+17    -94.250550     33.749000     -0.404520   \n",
       "50%    9.439078e+17    -76.610759     40.349274     -0.037812   \n",
       "75%    1.037260e+18     -0.127647     47.166670      0.367817   \n",
       "max    1.178898e+18    178.442166     79.994720      0.976721   \n",
       "\n",
       "       temperature_avg   tb_polarity  tb_subjectivity      hf_score  \\\n",
       "count     24797.000000  68283.000000     68283.000000  68283.000000   \n",
       "mean          1.204358      0.045078         0.297883      0.729627   \n",
       "std           3.771311      0.226309         0.276791      0.137312   \n",
       "min         -18.063744     -1.000000         0.000000      0.338455   \n",
       "25%          -1.184536      0.000000         0.000000      0.613759   \n",
       "50%           1.177470      0.000000         0.262500      0.738494   \n",
       "75%           3.858516      0.136364         0.500000      0.848753   \n",
       "max          17.907597      1.000000         1.000000      0.991963   \n",
       "\n",
       "         topic_code   gender_code   stance_code  aggressiveness_code  \\\n",
       "count  68283.000000  68283.000000  68283.000000         68283.000000   \n",
       "mean       3.007205      0.337170      0.284903             0.262642   \n",
       "std        2.499572      0.529805      0.581506             0.440073   \n",
       "min        0.000000      0.000000      0.000000             0.000000   \n",
       "25%        1.000000      0.000000      0.000000             0.000000   \n",
       "50%        2.000000      0.000000      0.000000             0.000000   \n",
       "75%        4.000000      1.000000      0.000000             1.000000   \n",
       "max        9.000000      2.000000      2.000000             1.000000   \n",
       "\n",
       "         label_code  \n",
       "count  68283.000000  \n",
       "mean       1.288857  \n",
       "std        0.649723  \n",
       "min        0.000000  \n",
       "25%        1.000000  \n",
       "50%        1.000000  \n",
       "75%        2.000000  \n",
       "max        2.000000  "
      ]
     },
     "execution_count": 9,
     "metadata": {},
     "output_type": "execute_result"
    }
   ],
   "source": [
    "data.describe()"
   ]
  },
  {
   "cell_type": "code",
   "execution_count": 10,
   "metadata": {},
   "outputs": [
    {
     "data": {
      "text/plain": [
       "<matplotlib.colorbar.Colorbar at 0x1a780fc91b0>"
      ]
     },
     "execution_count": 10,
     "metadata": {},
     "output_type": "execute_result"
    },
    {
     "data": {
      "image/png": "[encoded data removed]",
      "text/plain": [
       "<Figure size 720x576 with 2 Axes>"
      ]
     },
     "metadata": {
      "needs_background": "light"
     },
     "output_type": "display_data"
    }
   ],
   "source": [
    "f = plt.figure(figsize=(10, 8))\n",
    "plt.matshow(data.drop(['id', 'lng', 'lat'], axis=1).corr(), fignum=f.number)\n",
    "plt.colorbar()"
   ]
  },
  {
   "cell_type": "code",
   "execution_count": 11,
   "metadata": {},
   "outputs": [
    {
     "data": {
      "text/plain": [
       "<AxesSubplot:>"
      ]
     },
     "execution_count": 11,
     "metadata": {},
     "output_type": "execute_result"
    },
    {
     "data": {
      "image/png": "[encoded data removed]",
      "text/plain": [
       "<Figure size 720x576 with 2 Axes>"
      ]
     },
     "metadata": {
      "needs_background": "light"
     },
     "output_type": "display_data"
    }
   ],
   "source": [
    "f, ax = plt.subplots(figsize=(10, 8))\n",
    "corr = data.drop(['id', 'lng', 'lat'], axis=1).corr()\n",
    "sns.heatmap(corr, ax=ax)"
   ]
  },
  {
   "cell_type": "markdown",
   "metadata": {},
   "source": [
    "### gender stats\n",
    "as one can see, there are no noticeable differences for the value distributions throughout the gender"
   ]
  },
  {
   "cell_type": "code",
   "execution_count": 12,
   "metadata": {},
   "outputs": [
    {
     "data": {
      "text/plain": [
       "<AxesSubplot:xlabel='gender', ylabel='sentiment'>"
      ]
     },
     "execution_count": 12,
     "metadata": {},
     "output_type": "execute_result"
    },
    {
     "data": {
      "image/png": "[encoded data removed]",
      "text/plain": [
       "<Figure size 432x288 with 1 Axes>"
      ]
     },
     "metadata": {
      "needs_background": "light"
     },
     "output_type": "display_data"
    }
   ],
   "source": [
    "sns.boxplot(x='gender', y='sentiment', data=data)"
   ]
  },
  {
   "cell_type": "code",
   "execution_count": 13,
   "metadata": {},
   "outputs": [
    {
     "data": {
      "text/plain": [
       "<AxesSubplot:xlabel='gender', ylabel='temperature_avg'>"
      ]
     },
     "execution_count": 13,
     "metadata": {},
     "output_type": "execute_result"
    },
    {
     "data": {
      "image/png": "[encoded data removed]",
      "text/plain": [
       "<Figure size 432x288 with 1 Axes>"
      ]
     },
     "metadata": {
      "needs_background": "light"
     },
     "output_type": "display_data"
    }
   ],
   "source": [
    "sns.boxplot(x='gender', y='temperature_avg', data=data)"
   ]
  },
  {
   "cell_type": "code",
   "execution_count": 14,
   "metadata": {},
   "outputs": [
    {
     "data": {
      "text/plain": [
       "<AxesSubplot:xlabel='gender', ylabel='tb_polarity'>"
      ]
     },
     "execution_count": 14,
     "metadata": {},
     "output_type": "execute_result"
    },
    {
     "data": {
      "image/png": "[encoded data removed]",
      "text/plain": [
       "<Figure size 432x288 with 1 Axes>"
      ]
     },
     "metadata": {
      "needs_background": "light"
     },
     "output_type": "display_data"
    }
   ],
   "source": [
    "sns.boxplot(x='gender', y='tb_polarity', data=data)"
   ]
  },
  {
   "cell_type": "code",
   "execution_count": 15,
   "metadata": {},
   "outputs": [
    {
     "data": {
      "text/plain": [
       "<AxesSubplot:xlabel='gender', ylabel='tb_subjectivity'>"
      ]
     },
     "execution_count": 15,
     "metadata": {},
     "output_type": "execute_result"
    },
    {
     "data": {
      "image/png": "[encoded data removed]",
      "text/plain": [
       "<Figure size 432x288 with 1 Axes>"
      ]
     },
     "metadata": {
      "needs_background": "light"
     },
     "output_type": "display_data"
    }
   ],
   "source": [
    "sns.boxplot(x='gender', y='tb_subjectivity', data=data)"
   ]
  },
  {
   "cell_type": "code",
   "execution_count": 16,
   "metadata": {},
   "outputs": [
    {
     "data": {
      "text/plain": [
       "<AxesSubplot:xlabel='gender', ylabel='hf_score'>"
      ]
     },
     "execution_count": 16,
     "metadata": {},
     "output_type": "execute_result"
    },
    {
     "data": {
      "image/png": "[encoded data removed]",
      "text/plain": [
       "<Figure size 432x288 with 1 Axes>"
      ]
     },
     "metadata": {
      "needs_background": "light"
     },
     "output_type": "display_data"
    }
   ],
   "source": [
    "sns.boxplot(x='gender', y='hf_score', data=data)"
   ]
  },
  {
   "cell_type": "markdown",
   "metadata": {},
   "source": [
    "### topic stats\n",
    "here the values seem to vary a bit from topic to topic"
   ]
  },
  {
   "cell_type": "code",
   "execution_count": 17,
   "metadata": {},
   "outputs": [
    {
     "data": {
      "text/plain": [
       "<AxesSubplot:xlabel='topic', ylabel='sentiment'>"
      ]
     },
     "execution_count": 17,
     "metadata": {},
     "output_type": "execute_result"
    },
    {
     "data": {
      "image/png": "[encoded data removed]",
      "text/plain": [
       "<Figure size 432x288 with 1 Axes>"
      ]
     },
     "metadata": {
      "needs_background": "light"
     },
     "output_type": "display_data"
    }
   ],
   "source": [
    "sns.boxplot(x='topic', y='sentiment', data=data)"
   ]
  },
  {
   "cell_type": "code",
   "execution_count": 18,
   "metadata": {},
   "outputs": [
    {
     "data": {
      "text/plain": [
       "<AxesSubplot:xlabel='topic', ylabel='temperature_avg'>"
      ]
     },
     "execution_count": 18,
     "metadata": {},
     "output_type": "execute_result"
    },
    {
     "data": {
      "image/png": "[encoded data removed]",
      "text/plain": [
       "<Figure size 432x288 with 1 Axes>"
      ]
     },
     "metadata": {
      "needs_background": "light"
     },
     "output_type": "display_data"
    }
   ],
   "source": [
    "sns.boxplot(x='topic', y='temperature_avg', data=data)"
   ]
  },
  {
   "cell_type": "code",
   "execution_count": 19,
   "metadata": {},
   "outputs": [
    {
     "data": {
      "text/plain": [
       "<AxesSubplot:xlabel='topic', ylabel='tb_polarity'>"
      ]
     },
     "execution_count": 19,
     "metadata": {},
     "output_type": "execute_result"
    },
    {
     "data": {
      "image/png": "[encoded data removed]",
      "text/plain": [
       "<Figure size 432x288 with 1 Axes>"
      ]
     },
     "metadata": {
      "needs_background": "light"
     },
     "output_type": "display_data"
    }
   ],
   "source": [
    "sns.boxplot(x='topic', y='tb_polarity', data=data)"
   ]
  },
  {
   "cell_type": "code",
   "execution_count": 20,
   "metadata": {},
   "outputs": [
    {
     "data": {
      "text/plain": [
       "<AxesSubplot:xlabel='topic', ylabel='tb_subjectivity'>"
      ]
     },
     "execution_count": 20,
     "metadata": {},
     "output_type": "execute_result"
    },
    {
     "data": {
      "image/png": "[encoded data removed]",
      "text/plain": [
       "<Figure size 432x288 with 1 Axes>"
      ]
     },
     "metadata": {
      "needs_background": "light"
     },
     "output_type": "display_data"
    }
   ],
   "source": [
    "sns.boxplot(x='topic', y='tb_subjectivity', data=data)"
   ]
  },
  {
   "cell_type": "code",
   "execution_count": 21,
   "metadata": {},
   "outputs": [
    {
     "data": {
      "text/plain": [
       "<AxesSubplot:xlabel='topic', ylabel='hf_score'>"
      ]
     },
     "execution_count": 21,
     "metadata": {},
     "output_type": "execute_result"
    },
    {
     "data": {
      "image/png": "[encoded data removed]",
      "text/plain": [
       "<Figure size 432x288 with 1 Axes>"
      ]
     },
     "metadata": {
      "needs_background": "light"
     },
     "output_type": "display_data"
    }
   ],
   "source": [
    "sns.boxplot(x='topic', y='hf_score', data=data)"
   ]
  },
  {
   "cell_type": "markdown",
   "metadata": {},
   "source": [
    "### stance stats\n",
    "in the case of the sentiment a difference between the stance can be seen"
   ]
  },
  {
   "cell_type": "code",
   "execution_count": 23,
   "metadata": {},
   "outputs": [
    {
     "data": {
      "text/plain": [
       "<AxesSubplot:xlabel='stance', ylabel='sentiment'>"
      ]
     },
     "execution_count": 23,
     "metadata": {},
     "output_type": "execute_result"
    },
    {
     "data": {
      "image/png": "[encoded data removed]",
      "text/plain": [
       "<Figure size 432x288 with 1 Axes>"
      ]
     },
     "metadata": {
      "needs_background": "light"
     },
     "output_type": "display_data"
    }
   ],
   "source": [
    "sns.boxplot(x='stance', y='sentiment', data=data)"
   ]
  },
  {
   "cell_type": "code",
   "execution_count": 24,
   "metadata": {},
   "outputs": [
    {
     "data": {
      "text/plain": [
       "<AxesSubplot:xlabel='stance', ylabel='temperature_avg'>"
      ]
     },
     "execution_count": 24,
     "metadata": {},
     "output_type": "execute_result"
    },
    {
     "data": {
      "image/png": "[encoded data removed]",
      "text/plain": [
       "<Figure size 432x288 with 1 Axes>"
      ]
     },
     "metadata": {
      "needs_background": "light"
     },
     "output_type": "display_data"
    }
   ],
   "source": [
    "sns.boxplot(x='stance', y='temperature_avg', data=data)"
   ]
  },
  {
   "cell_type": "code",
   "execution_count": 25,
   "metadata": {},
   "outputs": [
    {
     "data": {
      "text/plain": [
       "<AxesSubplot:xlabel='stance', ylabel='tb_polarity'>"
      ]
     },
     "execution_count": 25,
     "metadata": {},
     "output_type": "execute_result"
    },
    {
     "data": {
      "image/png": "[encoded data removed]",
      "text/plain": [
       "<Figure size 432x288 with 1 Axes>"
      ]
     },
     "metadata": {
      "needs_background": "light"
     },
     "output_type": "display_data"
    }
   ],
   "source": [
    "sns.boxplot(x='stance', y='tb_polarity', data=data)"
   ]
  },
  {
   "cell_type": "code",
   "execution_count": 26,
   "metadata": {},
   "outputs": [
    {
     "data": {
      "text/plain": [
       "<AxesSubplot:xlabel='stance', ylabel='tb_subjectivity'>"
      ]
     },
     "execution_count": 26,
     "metadata": {},
     "output_type": "execute_result"
    },
    {
     "data": {
      "image/png": "[encoded data removed]",
      "text/plain": [
       "<Figure size 432x288 with 1 Axes>"
      ]
     },
     "metadata": {
      "needs_background": "light"
     },
     "output_type": "display_data"
    }
   ],
   "source": [
    "sns.boxplot(x='stance', y='tb_subjectivity', data=data)"
   ]
  },
  {
   "cell_type": "code",
   "execution_count": 27,
   "metadata": {},
   "outputs": [
    {
     "data": {
      "text/plain": [
       "<AxesSubplot:xlabel='stance', ylabel='hf_score'>"
      ]
     },
     "execution_count": 27,
     "metadata": {},
     "output_type": "execute_result"
    },
    {
     "data": {
      "image/png": "[encoded data removed]",
      "text/plain": [
       "<Figure size 432x288 with 1 Axes>"
      ]
     },
     "metadata": {
      "needs_background": "light"
     },
     "output_type": "display_data"
    }
   ],
   "source": [
    "sns.boxplot(x='stance', y='hf_score', data=data)"
   ]
  }
 ],
 "metadata": {
  "kernelspec": {
   "display_name": "Python 3.10.1 64-bit",
   "language": "python",
   "name": "python3"
  },
  "language_info": {
   "codemirror_mode": {
    "name": "ipython",
    "version": 3
   },
   "file_extension": ".py",
   "mimetype": "text/x-python",
   "name": "python",
   "nbconvert_exporter": "python",
   "pygments_lexer": "ipython3",
   "version": "3.10.1"
  },
  "orig_nbformat": 4,
  "vscode": {
   "interpreter": {
    "hash": "960ad195146762959c5c20eb2941a2017dfb97480947dbc60e2b2395f0e6db14"
   }
  }
 },
 "nbformat": 4,
 "nbformat_minor": 2
}
